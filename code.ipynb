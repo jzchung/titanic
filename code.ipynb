{
 "cells": [
  {
   "cell_type": "code",
   "execution_count": 335,
   "metadata": {},
   "outputs": [],
   "source": [
    "import pandas as pd\n",
    "import numpy as np\n",
    "from scipy import stats  \n",
    "import matplotlib.pyplot as plt\n",
    "import re\n",
    "from sklearn.ensemble import GradientBoostingClassifier\n",
    "from sklearn import metrics\n",
    "from sklearn.model_selection import cross_val_score, GridSearchCV"
   ]
  },
  {
   "cell_type": "code",
   "execution_count": 367,
   "metadata": {},
   "outputs": [
    {
     "name": "stdout",
     "output_type": "stream",
     "text": [
      "<class 'pandas.core.frame.DataFrame'>\n",
      "RangeIndex: 891 entries, 0 to 890\n",
      "Data columns (total 9 columns):\n",
      " #   Column    Non-Null Count  Dtype  \n",
      "---  ------    --------------  -----  \n",
      " 0   Pclass    891 non-null    int64  \n",
      " 1   Sex       891 non-null    object \n",
      " 2   Age       714 non-null    float64\n",
      " 3   SibSp     891 non-null    int64  \n",
      " 4   Parch     891 non-null    int64  \n",
      " 5   Ticket    891 non-null    object \n",
      " 6   Fare      891 non-null    float64\n",
      " 7   Cabin     204 non-null    object \n",
      " 8   Embarked  889 non-null    object \n",
      "dtypes: float64(2), int64(3), object(4)\n",
      "memory usage: 62.8+ KB\n"
     ]
    }
   ],
   "source": [
    "#load data\n",
    "train = pd.read_csv('./train.csv')\n",
    "#in this version, I think passengerid and name are useless, so i drop them.\n",
    "train = train.drop(['PassengerId','Name'],axis=1)\n",
    "trainy = train['Survived']\n",
    "trainx = train.drop(['Survived'],axis=1)\n",
    "trainx.info()"
   ]
  },
  {
   "cell_type": "code",
   "execution_count": 346,
   "metadata": {
    "collapsed": true
   },
   "outputs": [
    {
     "name": "stdout",
     "output_type": "stream",
     "text": [
      "[1 2 3]\n",
      "     pclass_1  pclass_2  pclass_3\n",
      "0           0         0         1\n",
      "1           1         0         0\n",
      "2           0         0         1\n",
      "3           1         0         0\n",
      "4           0         0         1\n",
      "..        ...       ...       ...\n",
      "886         0         1         0\n",
      "887         1         0         0\n",
      "888         0         0         1\n",
      "889         1         0         0\n",
      "890         0         0         1\n",
      "\n",
      "[891 rows x 3 columns]\n"
     ]
    },
    {
     "data": {
      "text/plain": [
       "<matplotlib.axes._subplots.AxesSubplot at 0x7ff2595b6050>"
      ]
     },
     "execution_count": 346,
     "metadata": {},
     "output_type": "execute_result"
    },
    {
     "data": {
      "image/png": "[encoded data removed]",
      "text/plain": [
       "<Figure size 432x288 with 1 Axes>"
      ]
     },
     "metadata": {
      "needs_background": "light"
     },
     "output_type": "display_data"
    }
   ],
   "source": [
    "#analyse features————Pclass\n",
    "print(np.unique(trainx['Pclass'])) # three categories, use one-hot\n",
    "print(pd.get_dummies(trainx['Pclass'],prefix='pclass'))\n",
    "# print(train.groupby(['Pclass','Survived'])['Survived'].count())\n",
    "df = pd.DataFrame(train.groupby(['Pclass','Survived'])['Survived'].count().unstack())\n",
    "df.plot.bar()\n",
    "#根据图片可以分析得到：pclass=3的遇难概率更大，而Pclass=2的二者相当，pclass=1的生存概率相对更大，证明该特征是有用的"
   ]
  },
  {
   "cell_type": "code",
   "execution_count": 54,
   "metadata": {
    "collapsed": true
   },
   "outputs": [
    {
     "name": "stdout",
     "output_type": "stream",
     "text": [
      "     female  male\n",
      "0         0     1\n",
      "1         1     0\n",
      "2         1     0\n",
      "3         1     0\n",
      "4         0     1\n",
      "..      ...   ...\n",
      "886       0     1\n",
      "887       1     0\n",
      "888       1     0\n",
      "889       0     1\n",
      "890       0     1\n",
      "\n",
      "[891 rows x 2 columns]\n"
     ]
    },
    {
     "data": {
      "text/plain": [
       "<matplotlib.axes._subplots.AxesSubplot at 0x7ff26b06c350>"
      ]
     },
     "execution_count": 54,
     "metadata": {},
     "output_type": "execute_result"
    },
    {
     "data": {
      "image/png": "[encoded data removed]",
      "text/plain": [
       "<Figure size 144x216 with 1 Axes>"
      ]
     },
     "metadata": {
      "needs_background": "light"
     },
     "output_type": "display_data"
    },
    {
     "data": {
      "image/png": "[encoded data removed]",
      "text/plain": [
       "<Figure size 432x288 with 1 Axes>"
      ]
     },
     "metadata": {
      "needs_background": "light"
     },
     "output_type": "display_data"
    }
   ],
   "source": [
    "#feature analysis -- Sex\n",
    "print(pd.get_dummies(train['Sex']))\n",
    "tempsex = pd.get_dummies(train['Sex'])\n",
    "#看一下男女比例\n",
    "np.sum(tempsex).plot.bar(figsize=(2,3),width=0.2)\n",
    "#看一下存活比例\n",
    "dfsex = pd.DataFrame(train.groupby(['Sex','Survived'])['Survived'].count().unstack())\n",
    "dfsex.plot.bar()\n",
    "#根据图片可以看到，女性的生存比例远大于男性，这个特征是有用的"
   ]
  },
  {
   "cell_type": "code",
   "execution_count": 136,
   "metadata": {
    "collapsed": true
   },
   "outputs": [
    {
     "name": "stdout",
     "output_type": "stream",
     "text": [
      "24.0\n",
      "80.0 0.42\n"
     ]
    },
    {
     "name": "stderr",
     "output_type": "stream",
     "text": [
      "/Users/jazzychung/opt/anaconda3/lib/python3.7/site-packages/ipykernel_launcher.py:6: SettingWithCopyWarning: \n",
      "A value is trying to be set on a copy of a slice from a DataFrame\n",
      "\n",
      "See the caveats in the documentation: https://pandas.pydata.org/pandas-docs/stable/user_guide/indexing.html#returning-a-view-versus-a-copy\n",
      "  \n"
     ]
    },
    {
     "data": {
      "text/plain": [
       "<matplotlib.axes._subplots.AxesSubplot at 0x7ff24e6ba150>"
      ]
     },
     "execution_count": 136,
     "metadata": {},
     "output_type": "execute_result"
    },
    {
     "data": {
      "image/png": "[encoded data removed]",
      "text/plain": [
       "<Figure size 432x288 with 1 Axes>"
      ]
     },
     "metadata": {
      "needs_background": "light"
     },
     "output_type": "display_data"
    }
   ],
   "source": [
    "#feature analysis-- age\n",
    "#由于年龄中存在一定的缺失值，先做填充，这里使用众数进行填充\n",
    "train.loc[train['Age']<0]=0\n",
    "mode = stats.mode(np.array(train['Age']))[0][0]\n",
    "print(mode)\n",
    "train['Age'][np.isnan(train['Age'])]=mode\n",
    "#直接分析年龄不切实际，可以年龄进行分段，先查看范围[0.42--80]\n",
    "print(np.max(train['Age']),np.min(train['Age']))\n",
    "#故将年龄分为3段0-20/21-55/56-\n",
    "train['Age'].loc[train['Age']<=20]=1\n",
    "train['Age'].loc[train['Age']>=55]=3\n",
    "train['Age'].loc[train['Age']>20]=2\n",
    "# print(train)\n",
    "#先看一下年龄分布\n",
    "dfage = pd.DataFrame(train.groupby(['Age','Survived'])['Survived'].count().unstack())\n",
    "dfage.plot.bar()\n",
    "#从图中可知，青年人的生存概率相对较高，但是这个是粗粒度，粒度更细的时候结果可能会不一样，修改了一下发现年纪越小，生还的比率会提高，有意义的特征"
   ]
  },
  {
   "cell_type": "code",
   "execution_count": 151,
   "metadata": {
    "collapsed": true
   },
   "outputs": [
    {
     "name": "stdout",
     "output_type": "stream",
     "text": [
      "SibSp\n",
      "0    0.654605\n",
      "1    0.464115\n",
      "2    0.535714\n",
      "3    0.750000\n",
      "4    0.833333\n",
      "5    1.000000\n",
      "8    1.000000\n",
      "dtype: float64\n"
     ]
    },
    {
     "data": {
      "text/plain": [
       "<matplotlib.axes._subplots.AxesSubplot at 0x7ff24cc9ded0>"
      ]
     },
     "execution_count": 151,
     "metadata": {},
     "output_type": "execute_result"
    },
    {
     "data": {
      "image/png": "[encoded data removed]",
      "text/plain": [
       "<Figure size 432x288 with 1 Axes>"
      ]
     },
     "metadata": {
      "needs_background": "light"
     },
     "output_type": "display_data"
    }
   ],
   "source": [
    "#feature analysis-- sibsp\n",
    "#sibsp这个属性没有空值，这个属性的意思是sibling&spouse（兄弟姐妹/配偶）根据kaggle的讨论区，sibsp和parch有可能是错误的，如何处理？在初始版本中我先不处理\n",
    "dfsibsp = pd.DataFrame(train.groupby(['SibSp','Survived'])['Survived'].count().unstack())\n",
    "dfsibsp = dfsibsp.fillna(0)\n",
    "print(dfsibsp[0]/(dfsibsp[1]+dfsibsp[0]))#计算一下死亡比\n",
    "dfsibsp.plot.bar()\n",
    "#无论从占比还是图片可以看出，最大概率生存下来的，是sibsp=1。其余的死亡占比都很高，而且由于大部分都是0/1，所以这个特征怎么用还得斟酌"
   ]
  },
  {
   "cell_type": "code",
   "execution_count": 154,
   "metadata": {
    "collapsed": true
   },
   "outputs": [
    {
     "name": "stdout",
     "output_type": "stream",
     "text": [
      "Parch\n",
      "0    0.343658\n",
      "1    0.550847\n",
      "2    0.500000\n",
      "3    0.600000\n",
      "4    0.000000\n",
      "5    0.200000\n",
      "6    0.000000\n",
      "dtype: float64\n"
     ]
    },
    {
     "data": {
      "text/plain": [
       "<matplotlib.axes._subplots.AxesSubplot at 0x7ff24cc2f350>"
      ]
     },
     "execution_count": 154,
     "metadata": {},
     "output_type": "execute_result"
    },
    {
     "data": {
      "image/png": "[encoded data removed]",
      "text/plain": [
       "<Figure size 432x288 with 1 Axes>"
      ]
     },
     "metadata": {
      "needs_background": "light"
     },
     "output_type": "display_data"
    }
   ],
   "source": [
    "#feature analysis-- parch parent&children\n",
    "#看一下分布图\n",
    "dfparch = pd.DataFrame(train.groupby(['Parch','Survived'])['Survived'].count().unstack())\n",
    "dfparch = dfparch.fillna(0)\n",
    "print(dfparch[1]/(dfparch[0]+dfparch[1]))#看一下生还率\n",
    "dfparch.plot.bar()\n",
    "#可以看出，parch为1-3时生还概率是最高的，因为有孩子的生还的概率更大，但是孩子更多时不好分析\n",
    "'''\n",
    "高阶分析：因为parch是包括了双亲和孩子，可以进一步分开，双亲和孩子的概率，但是这个实现需要人工干预，例如分析名字等不好实现。\n",
    "具体思路：先从年龄小于20的人开始分析，通过比对字符串找到最可能的双亲，同时统计两人的存活状态。\n",
    "'''\n"
   ]
  },
  {
   "cell_type": "code",
   "execution_count": 273,
   "metadata": {
    "collapsed": true
   },
   "outputs": [
    {
     "name": "stdout",
     "output_type": "stream",
     "text": [
      "ticketType\n",
      "1    0.650000\n",
      "2    0.464286\n",
      "3    0.361146\n",
      "dtype: float64\n"
     ]
    },
    {
     "data": {
      "image/png": "[encoded data removed]",
      "text/plain": [
       "<Figure size 432x288 with 1 Axes>"
      ]
     },
     "metadata": {
      "needs_background": "light"
     },
     "output_type": "display_data"
    }
   ],
   "source": [
    "#feature analysis --tickets\n",
    "#看得出ticket有一些规律，如开头的PC C.A./CA A./5. 还有一些是单纯的数字，开头的字母组合只要分析个别的就可以，不用都分析出来【虽然理论上可以】\n",
    "#任务1:将ticket列取出，只是方便分析\n",
    "tkarr = np.array(train['Ticket'])\n",
    "#任务2:统计开头为PC/ CA中survived的比率\n",
    "respc = [re.match(r'pc',it,flags=re.I) for it in tkarr]\n",
    "pcind = [i for i,it in enumerate(respc) if it] #获取特定表达式的index\n",
    "resca = [re.match(r'c(.)a(.)',it,flags=re.I) for it in tkarr]\n",
    "caind = [i for i,it in enumerate(resca) if it]\n",
    "#任务3:画图，特殊票根开头的生还情况柱状图 给一个列PC=1，CA=2，other=3\n",
    "traintemp = train\n",
    "traintemp['ticketType']='3'\n",
    "traintemp['ticketType'].loc[pcind]=1\n",
    "traintemp['ticketType'].loc[caind]=2\n",
    "dftick = pd.DataFrame(traintemp.groupby(['ticketType','Survived'])['Survived'].count().unstack())\n",
    "dftick.plot.bar()\n",
    "print(dftick[1]/(dftick[0]+dftick[1]))\n",
    "#通过分析可以看到，PC开头的票存活率最大，ca次之，暂时先这样分，以后再挖掘其他规律"
   ]
  },
  {
   "cell_type": "code",
   "execution_count": 293,
   "metadata": {
    "collapsed": true
   },
   "outputs": [
    {
     "data": {
      "image/png": "[encoded data removed]",
      "text/plain": [
       "<Figure size 432x288 with 1 Axes>"
      ]
     },
     "metadata": {
      "needs_background": "light"
     },
     "output_type": "display_data"
    }
   ],
   "source": [
    "#feature analysis -- fare\n",
    "# print(np.array(train['Fare']))\n",
    "#因为是一些数值，暂时先不做区间划分，因为没有缺失值，所以不做处理了\n",
    "#先按照票价排个序\n",
    "sorted_train = train.sort_values(by='Fare')\n",
    "x = np.linspace(1,train.shape[0],train.shape[0])\n",
    "y1 = sorted_train['Fare']\n",
    "y2 = sorted_train['Survived']*0.5*max(y1) #大概处理一下让存活状况更好表示\n",
    "plt.figure()\n",
    "plt.plot(x,y1,color='r')\n",
    "plt.bar(x,y2)\n",
    "plt.show()\n",
    "#从图像上大概可以看到，fare越高存活的概率相对更大，但是怎么利用起来是个问题"
   ]
  },
  {
   "cell_type": "code",
   "execution_count": 316,
   "metadata": {
    "collapsed": true
   },
   "outputs": [
    {
     "data": {
      "text/plain": [
       "<matplotlib.axes._subplots.AxesSubplot at 0x7ff25636bb90>"
      ]
     },
     "execution_count": 316,
     "metadata": {},
     "output_type": "execute_result"
    },
    {
     "data": {
      "image/png": "[encoded data removed]",
      "text/plain": [
       "<Figure size 432x288 with 1 Axes>"
      ]
     },
     "metadata": {
      "needs_background": "light"
     },
     "output_type": "display_data"
    }
   ],
   "source": [
    "#feature analysis -- cabin\n",
    "#因为cabin的缺失值很多，可以选择直接丢弃，或者看看有cabin和没cabin的区别\n",
    "# print(np.array(train['Cabin']))\n",
    "temp = train['Cabin'].fillna(0)\n",
    "nonzind = np.nonzero(np.array(temp))\n",
    "temp[nonzind[0]]=1\n",
    "train['Cabin'] = temp\n",
    "dfcab = pd.DataFrame(train.groupby(['Cabin','Survived'])['Survived'].count().unstack())\n",
    "dfcab.plot.bar()\n",
    "#可以看出来有cabin号的明显存活率比没有的要高"
   ]
  },
  {
   "cell_type": "code",
   "execution_count": 331,
   "metadata": {
    "collapsed": true
   },
   "outputs": [
    {
     "data": {
      "text/plain": [
       "<matplotlib.axes._subplots.AxesSubplot at 0x7ff2561eaa50>"
      ]
     },
     "execution_count": 331,
     "metadata": {},
     "output_type": "execute_result"
    },
    {
     "data": {
      "image/png": "[encoded data removed]",
      "text/plain": [
       "<Figure size 432x288 with 1 Axes>"
      ]
     },
     "metadata": {
      "needs_background": "light"
     },
     "output_type": "display_data"
    }
   ],
   "source": [
    "#feature analysis -- embarked 表示登船港口地点\n",
    "train['Embarked'] = train['Embarked'].fillna('N')\n",
    "dfem = pd.DataFrame(train.groupby(['Embarked','Survived'])['Survived'].count().unstack())\n",
    "dfem.plot.bar()\n",
    "#在Cherbourg登船的客人存活率最高"
   ]
  },
  {
   "cell_type": "code",
   "execution_count": 380,
   "metadata": {},
   "outputs": [
    {
     "name": "stdout",
     "output_type": "stream",
     "text": [
      "     Survived  SibSp  Parch            Ticket     Fare Cabin Embarked  \\\n",
      "0           0      1      0         A/5 21171   7.2500   NaN        S   \n",
      "1           1      1      0          PC 17599  71.2833   C85        C   \n",
      "2           1      0      0  STON/O2. 3101282   7.9250   NaN        S   \n",
      "3           1      1      0            113803  53.1000  C123        S   \n",
      "4           0      0      0            373450   8.0500   NaN        S   \n",
      "..        ...    ...    ...               ...      ...   ...      ...   \n",
      "886         0      0      0            211536  13.0000   NaN        S   \n",
      "887         1      0      0            112053  30.0000   B42        S   \n",
      "888         0      1      2        W./C. 6607  23.4500   NaN        S   \n",
      "889         1      0      0            111369  30.0000  C148        C   \n",
      "890         0      0      0            370376   7.7500   NaN        Q   \n",
      "\n",
      "     pclass_1  pclass_2  pclass_3  female  male  age_1.0  age_2.0  age_3.0  \n",
      "0           0         0         1       0     1        0        1        0  \n",
      "1           1         0         0       1     0        0        1        0  \n",
      "2           0         0         1       1     0        0        1        0  \n",
      "3           1         0         0       1     0        0        1        0  \n",
      "4           0         0         1       0     1        0        1        0  \n",
      "..        ...       ...       ...     ...   ...      ...      ...      ...  \n",
      "886         0         1         0       0     1        0        1        0  \n",
      "887         1         0         0       1     0        1        0        0  \n",
      "888         0         0         1       1     0        0        0        0  \n",
      "889         1         0         0       0     1        0        1        0  \n",
      "890         0         0         1       0     1        0        1        0  \n",
      "\n",
      "[891 rows x 15 columns]\n"
     ]
    },
    {
     "name": "stderr",
     "output_type": "stream",
     "text": [
      "/Users/jazzychung/opt/anaconda3/lib/python3.7/site-packages/pandas/core/indexing.py:670: SettingWithCopyWarning: \n",
      "A value is trying to be set on a copy of a slice from a DataFrame\n",
      "\n",
      "See the caveats in the documentation: https://pandas.pydata.org/pandas-docs/stable/user_guide/indexing.html#returning-a-view-versus-a-copy\n",
      "  self._setitem_with_indexer(indexer, value)\n"
     ]
    }
   ],
   "source": [
    "#以上特征分析完成了开始构建特征\n",
    "#pclass\n",
    "temp = pd.get_dummies(trainx['Pclass'],prefix='pclass')\n",
    "result = pd.concat([train,temp],axis=1)\n",
    "result = result.drop(['Pclass'],axis=1)\n",
    "#sex\n",
    "temp = pd.get_dummies(trainx['Sex'])\n",
    "result = pd.concat([result,temp],axis=1)\n",
    "result = result.drop(['Sex'],axis=1)\n",
    "#age\n",
    "result['Age'].loc[result['Age']<=20]=1\n",
    "result['Age'].loc[result['Age']>=55]=3\n",
    "result['Age'].loc[result['Age']>20]=2\n",
    "temp = pd.get_dummies(result['Age'],prefix='age')\n",
    "result = pd.concat([result, temp],axis=1)\n",
    "result = result.drop(['Age'],axis=1)\n",
    "print(result)"
   ]
  },
  {
   "cell_type": "code",
   "execution_count": null,
   "metadata": {},
   "outputs": [],
   "source": []
  },
  {
   "cell_type": "code",
   "execution_count": null,
   "metadata": {},
   "outputs": [],
   "source": []
  }
 ],
 "metadata": {
  "kernelspec": {
   "display_name": "Python 3",
   "language": "python",
   "name": "python3"
  },
  "language_info": {
   "codemirror_mode": {
    "name": "ipython",
    "version": 3
   },
   "file_extension": ".py",
   "mimetype": "text/x-python",
   "name": "python",
   "nbconvert_exporter": "python",
   "pygments_lexer": "ipython3",
   "version": "3.7.6"
  }
 },
 "nbformat": 4,
 "nbformat_minor": 4
}
